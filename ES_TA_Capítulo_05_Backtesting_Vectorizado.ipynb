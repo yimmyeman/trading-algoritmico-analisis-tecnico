{
  "cells": [
    {
      "cell_type": "markdown",
      "metadata": {
        "colab_type": "text",
        "id": "view-in-github"
      },
      "source": [
        "<a href=\"https://colab.research.google.com/github/joanby/trading-algoritmico-analisis-tecnico/blob/main/ES_TA_Cap%C3%ADtulo_05_Backtesting_Vectorizado.ipynb\" target=\"_parent\"><img src=\"https://colab.research.google.com/assets/colab-badge.svg\" alt=\"Open In Colab\"/></a>"
      ]
    },
    {
      "cell_type": "markdown",
      "metadata": {
        "id": "c0gX2s9FqJ6H"
      },
      "source": [
        "<p><img alt=\"Colaboratory logo\" height=\"45px\" src=\"https://www.quantreo.com/wp-content/uploads/2021/10/Original-on-Transparent.png\" align=\"left\" hspace=\"10px\" vspace=\"0px\">\n",
        "<img alt=\"Colaboratory logo\" height=\"45px\" src=\"https://static-881c.kxcdn.com/wp-content/uploads/2016/03/frogamesLogoFull4.png\" align=\"left\" hspace=\"10px\" vspace=\"0px\"></p>\n",
        "\n",
        "# BackTesting Vectorizado\n",
        "El backtesting es una parte esencial del trading. En efecto, es importante comprender el comportamiento de nuestra estrategia en el pasado para poder considerar los del futuro.\n",
        "\n",
        "### Contenido\n",
        "\n",
        "* Sortino Beta Alpha\n",
        "* Drawdown \n",
        "* Crear la función BackTest para evaluar la estrategia en las secciones posteriores\n",
        "\n",
        "</br>\n",
        "\n",
        "\n",
        "💰 Únete a la comunidad de [Discord](https://discord.gg/wXjNPAc5BH)\n",
        "\n",
        "📚 Puedes leer nuestro libro en [Amazon](https://www.amazon.com/gp/product/B09HG18CYL)\n",
        "\n",
        "🖥️ El canal de [YouTube de Quantreo's](https://www.youtube.com/channel/UCp7jckfiEglNf_Gj62VR0pw) (en inglés) y el de [Frogames](https://www.youtube.com/channel/UCMUxXNYrVCv6-bQakhomvBg) en español"
      ]
    },
    {
      "cell_type": "markdown",
      "metadata": {
        "id": "dBbjGbqrtFrj"
      },
      "source": [
        "### Entorno"
      ]
    },
    {
      "cell_type": "code",
      "execution_count": 1,
      "metadata": {
        "colab": {
          "base_uri": "https://localhost:8080/"
        },
        "id": "Tjz98gQfs9T-",
        "outputId": "87ecc989-90fb-4658-f801-4a09303ef042"
      },
      "outputs": [
        {
          "name": "stdout",
          "output_type": "stream",
          "text": [
            "Collecting yfinance\n",
            "  Using cached yfinance-0.1.74-py2.py3-none-any.whl (27 kB)\n",
            "Requirement already satisfied: numpy>=1.15 in /Users/yimmyeman/envs/ia/lib/python3.9/site-packages (from yfinance) (1.23.3)\n",
            "Collecting multitasking>=0.0.7\n",
            "  Using cached multitasking-0.0.11-py3-none-any.whl (8.5 kB)\n",
            "Collecting requests>=2.26\n",
            "  Using cached requests-2.28.1-py3-none-any.whl (62 kB)\n",
            "Requirement already satisfied: lxml>=4.5.1 in /Users/yimmyeman/envs/ia/lib/python3.9/site-packages (from yfinance) (4.9.1)\n",
            "Requirement already satisfied: pandas>=0.24.0 in /Users/yimmyeman/envs/ia/lib/python3.9/site-packages (from yfinance) (1.4.4)\n",
            "Requirement already satisfied: python-dateutil>=2.8.1 in /Users/yimmyeman/envs/ia/lib/python3.9/site-packages (from pandas>=0.24.0->yfinance) (2.8.2)\n",
            "Requirement already satisfied: pytz>=2020.1 in /Users/yimmyeman/envs/ia/lib/python3.9/site-packages (from pandas>=0.24.0->yfinance) (2022.2.1)\n",
            "Collecting urllib3<1.27,>=1.21.1\n",
            "  Using cached urllib3-1.26.12-py2.py3-none-any.whl (140 kB)\n",
            "Collecting idna<4,>=2.5\n",
            "  Using cached idna-3.4-py3-none-any.whl (61 kB)\n",
            "Collecting charset-normalizer<3,>=2\n",
            "  Using cached charset_normalizer-2.1.1-py3-none-any.whl (39 kB)\n",
            "Collecting certifi>=2017.4.17\n",
            "  Using cached certifi-2022.9.14-py3-none-any.whl (162 kB)\n",
            "Requirement already satisfied: six>=1.5 in /Users/yimmyeman/envs/ia/lib/python3.9/site-packages (from python-dateutil>=2.8.1->pandas>=0.24.0->yfinance) (1.16.0)\n",
            "Installing collected packages: multitasking, urllib3, idna, charset-normalizer, certifi, requests, yfinance\n",
            "Successfully installed certifi-2022.9.14 charset-normalizer-2.1.1 idna-3.4 multitasking-0.0.11 requests-2.28.1 urllib3-1.26.12 yfinance-0.1.74\n",
            "Note: you may need to restart the kernel to use updated packages.\n",
            "Collecting ta\n",
            "  Using cached ta-0.10.2-py3-none-any.whl\n",
            "Requirement already satisfied: numpy in /Users/yimmyeman/envs/ia/lib/python3.9/site-packages (from ta) (1.23.3)\n",
            "Requirement already satisfied: pandas in /Users/yimmyeman/envs/ia/lib/python3.9/site-packages (from ta) (1.4.4)\n",
            "Requirement already satisfied: python-dateutil>=2.8.1 in /Users/yimmyeman/envs/ia/lib/python3.9/site-packages (from pandas->ta) (2.8.2)\n",
            "Requirement already satisfied: pytz>=2020.1 in /Users/yimmyeman/envs/ia/lib/python3.9/site-packages (from pandas->ta) (2022.2.1)\n",
            "Requirement already satisfied: six>=1.5 in /Users/yimmyeman/envs/ia/lib/python3.9/site-packages (from python-dateutil>=2.8.1->pandas->ta) (1.16.0)\n",
            "Installing collected packages: ta\n",
            "Successfully installed ta-0.10.2\n",
            "Note: you may need to restart the kernel to use updated packages.\n"
          ]
        }
      ],
      "source": [
        "%pip install yfinance    \n",
        "%pip install ta"
      ]
    },
    {
      "cell_type": "code",
      "execution_count": 1,
      "metadata": {
        "id": "TflLwK15qGcx"
      },
      "outputs": [],
      "source": [
        "import matplotlib as mpl\n",
        "import matplotlib.pyplot as plt\n",
        "import numpy as np\n",
        "import ta\n",
        "import yfinance as yf\n",
        "import pandas as pd\n",
        "import warnings\n",
        "warnings.filterwarnings(\"ignore\")\n",
        "from matplotlib import cycler\n",
        "\n",
        "colors = cycler('color',\n",
        "                ['#669FEE', '#66EE91', '#9988DD',\n",
        "                 '#EECC55', '#88BB44', '#FFBBBB'])\n",
        "plt.rc('figure', facecolor='#313233')\n",
        "plt.rc('axes', facecolor=\"#313233\", edgecolor='none',\n",
        "       axisbelow=True, grid=True, prop_cycle=colors,\n",
        "       labelcolor='gray')\n",
        "plt.rc('grid', color='474A4A', linestyle='solid')\n",
        "plt.rc('xtick', color='gray')\n",
        "plt.rc('ytick', direction='out', color='gray')\n",
        "plt.rc('legend', facecolor=\"#313233\", edgecolor=\"#313233\")\n",
        "plt.rc(\"text\", color=\"#C9C9C9\")\n",
        "plt.rc('figure', facecolor='#313233')"
      ]
    },
    {
      "cell_type": "markdown",
      "metadata": {
        "id": "zA820l5pKCpi"
      },
      "source": [
        "### Función"
      ]
    },
    {
      "cell_type": "code",
      "execution_count": null,
      "metadata": {
        "id": "Mkv1p8aQKG-b"
      },
      "outputs": [],
      "source": [
        "def RSI(val, neutral, window):\n",
        "  \"\"\" \n",
        "        ------------------------------------------------------------------------------\n",
        "        | Output: La función da los rendimientos de la estrategia RSI                |\n",
        "        ------------------------------------------------------------------------------\n",
        "        | Inputs: -val (type dataframe pandas): Valores de entrada de la acción      |\n",
        "        |         -neutral (float): Valor neutral, es decir, zona de no acción       |\n",
        "        |         -window (float): período de balanceo para el RSI                   |\n",
        "        ------------------------------------------------------------------------------\n",
        "  \"\"\"\n",
        "\n",
        "  # Print Error if there is no column Adj Close in the dataframe\n",
        "  if \"Adj Close\" not in val.columns:\n",
        "    ValueError(\"Necesitamos tener un nombre de columna Adj Close porque todos los cálculos se refieren a esta columna\")\n",
        "  \n",
        "  val[\"rsi\"] = ta.momentum.RSIIndicator(val[\"Adj Close\"], window=window).rsi()\n",
        "\n",
        "\n",
        "  \n",
        "  \"\"\"Señal de compra en largo \"\"\"\n",
        "  # Colocamos el umbral\n",
        "  overbuy = 70\n",
        "  neutral_buy = 50 + neutral\n",
        "\n",
        "  # Poner valores nan para las columnas de la señal larga\n",
        "  val[\"signal_long\"] = np.nan\n",
        "  val[\"yersteday_rsi\"] = val[\"rsi\"].shift(1)\n",
        "  # Necesitamos definir la señal de apertura en largo (RSI ayer<55 y RSI hoy>55)\n",
        "  val.loc[(val[\"rsi\"]>neutral_buy) & (val[\"yersteday_rsi\"]<neutral_buy), \"signal_long\"] = 1\n",
        "\n",
        "  # Necesitamos definir la señal cierre en largo (RSI ayer>55 y RSI hoy<55) Señal falsa\n",
        "  val.loc[(val[\"rsi\"]<neutral_buy)&(val[\"yersteday_rsi\"]>neutral_buy), \"signal_long\"] = 0\n",
        "\n",
        "  # Necesitamos definir la señal cierre en largo (RSI ayer<70 y RSI hoy>70) Señal de sobrecompra\n",
        "  val.loc[(val[\"rsi\"]>overbuy)&(val[\"yersteday_rsi\"]<overbuy), \"signal_long\"] = 0\n",
        "\n",
        "\n",
        "\n",
        "  \"\"\"Señal de venta en corto \"\"\"\n",
        "  # Colocamos el umbral\n",
        "  oversell = 30\n",
        "  neutral_sell = 50 - neutral\n",
        "\n",
        "  # Poner valores nan para las columnas de la señal larga\n",
        "  val[\"signal_short\"] = np.nan\n",
        "  val[\"yersteday_rsi\"] = val[\"rsi\"].shift(1)\n",
        "  # Necesitamos definir la señal de apertura en corto (RSI ayer>45 y RSI hoy<45)\n",
        "  val.loc[(val[\"rsi\"]<neutral_sell) & (val[\"yersteday_rsi\"]>neutral_sell), \"signal_short\"] = -1\n",
        "\n",
        "  # Necesitamos definir la señal de cierre en corto (RSI ayer<45 y RSI hoy>45) Señal falsa\n",
        "  val.loc[(val[\"rsi\"]>neutral_sell)&(val[\"yersteday_rsi\"]<neutral_sell), \"signal_short\"] = 0\n",
        "\n",
        "  # Necesitamos definir la señal de cierre en corto (RSI ayer>30 y RSI hoy<30) Señal de sobre venta\n",
        "  val.loc[(val[\"rsi\"]<oversell)&(val[\"yersteday_rsi\"]>oversell), \"signal_short\"] = 0\n",
        "\n",
        "  \"\"\"Calcular el retorno \"\"\"\n",
        "  # Calculamos el porcentaje de variación del activo\n",
        "  val[\"pct\"] = val[\"Adj Close\"].pct_change(1)\n",
        "\n",
        "  # Calculamos las posiciones\n",
        "  val[\"Position\"] = (val[\"signal_short\"].fillna(method=\"ffill\")+ val[\"signal_long\"].fillna(method=\"ffill\"))\n",
        "\n",
        "  # Calculamos el valor de retorno de la estrategia\n",
        "  val[\"return\"] = val[\"pct\"]*(val[\"Position\"].shift(1))\n",
        "\n",
        "  return val[\"return\"]"
      ]
    },
    {
      "cell_type": "markdown",
      "metadata": {
        "id": "hKMvnPIwslSn"
      },
      "source": [
        "# Sección 1: Sortino Beta Alpha"
      ]
    },
    {
      "cell_type": "markdown",
      "metadata": {
        "id": "MvSQJefks3OP"
      },
      "source": [
        "###### Sortino\n",
        "El índice de Sortino es una estadística similar al índice de Sharpe con la misma interpretación. Sin embargo, el cálculo es ligeramente diferente. En efecto, en el índice de Sortino sólo se tiene en cuenta la volatilidad de las ganancias negativas porque es lo que tememos y no las ganancias alcistas que nos hacen ganar dinero. <br>\n",
        "<p align=\"center\">\n",
        "$Sortino = \\frac{\\mu }{\\sigma_{down}}$\n",
        "<p> <br>\n",
        "\n",
        "* SortinoRatio < 0 : Inversión no rentable porque las ganancias son negativas.\n",
        "* SortinoRatio < 1: Inversión rentable, pero el riesgo de la inversión es mayor que la rentabilidad.\n",
        "* SortinoRatio > 1: Inversión muy rentable porque el riesgo es menor que el rendimiento.\n"
      ]
    },
    {
      "cell_type": "code",
      "execution_count": null,
      "metadata": {
        "colab": {
          "base_uri": "https://localhost:8080/"
        },
        "id": "m1Fuei6Ssmrk",
        "outputId": "bd2308ab-8c05-43b2-bd24-0a0f2fee4d63"
      },
      "outputs": [
        {
          "name": "stdout",
          "output_type": "stream",
          "text": [
            "\r[*********************100%***********************]  1 of 1 completed\n",
            "Sortino: -0.162\n"
          ]
        }
      ],
      "source": [
        "# Preparar los datos \n",
        "f = yf.download(\"GOOG\", end=\"2021-01-01\")\n",
        "return_serie = RSI(f,5, 14)\n",
        "\n",
        "# Calcular el índice de Sortino\n",
        "mean = np.mean(return_serie) #252\n",
        "vol = np.std(return_serie[return_serie<0]) #np.sqrt(252)\n",
        "sortino = np.sqrt(252)*mean/vol\n",
        "\n",
        "print(f\"Sortino: {'%.3f' % sortino}\")"
      ]
    },
    {
      "cell_type": "markdown",
      "metadata": {
        "id": "S2WSR_5vIAgR"
      },
      "source": [
        "###### Beta\n",
        "La beta es un estadístico que indica la relación entre las variaciones de nuestra cartera y las del mercado que está representado por un índice (por ejemplo el SP500). <br>\n",
        "\n",
        "<p align=\"center\">\n",
        "$Beta = \\frac{Cov(r_{M},r_{PF}) }{Var(r_{M})}$\n",
        "<p> <br>\n",
        "\n",
        "\n",
        "\n",
        "* abs(Beta) < 1: Es bueno porque significa que la cartera tiene una variación menor que el índice. (Si beta=0,9 significa que si el índice varía en 1 la cartera varía en 0,9)\n",
        "* abs(Beta) > 1: No es bueno porque significa que slau cartera tiene una variación mayor que el índice. (Si beta=1,1 significa que si el índice varía de 1 la cartera varía en 1,1)\n",
        "\n",
        "*abs(-x) = x = abs(x) (abs da sólo el valor de la variable no el signo)*"
      ]
    },
    {
      "cell_type": "code",
      "execution_count": null,
      "metadata": {
        "colab": {
          "base_uri": "https://localhost:8080/",
          "height": 473
        },
        "id": "-lUE91pbHhwv",
        "outputId": "157c6fe5-0884-4147-d32c-2ad7999a3196"
      },
      "outputs": [
        {
          "name": "stdout",
          "output_type": "stream",
          "text": [
            "\r[*********************100%***********************]  1 of 1 completed\n"
          ]
        },
        {
          "data": {
            "text/html": [
              "\n",
              "  <div id=\"df-b74db138-603d-45f1-9342-748c8442fa29\">\n",
              "    <div class=\"colab-df-container\">\n",
              "      <div>\n",
              "<style scoped>\n",
              "    .dataframe tbody tr th:only-of-type {\n",
              "        vertical-align: middle;\n",
              "    }\n",
              "\n",
              "    .dataframe tbody tr th {\n",
              "        vertical-align: top;\n",
              "    }\n",
              "\n",
              "    .dataframe thead th {\n",
              "        text-align: right;\n",
              "    }\n",
              "</style>\n",
              "<table border=\"1\" class=\"dataframe\">\n",
              "  <thead>\n",
              "    <tr style=\"text-align: right;\">\n",
              "      <th></th>\n",
              "      <th>return</th>\n",
              "      <th>SP500</th>\n",
              "    </tr>\n",
              "    <tr>\n",
              "      <th>Date</th>\n",
              "      <th></th>\n",
              "      <th></th>\n",
              "    </tr>\n",
              "  </thead>\n",
              "  <tbody>\n",
              "    <tr>\n",
              "      <th>2014-05-22</th>\n",
              "      <td>0.011356</td>\n",
              "      <td>0.002362</td>\n",
              "    </tr>\n",
              "    <tr>\n",
              "      <th>2014-05-23</th>\n",
              "      <td>0.014017</td>\n",
              "      <td>0.004248</td>\n",
              "    </tr>\n",
              "    <tr>\n",
              "      <th>2014-05-27</th>\n",
              "      <td>0.023973</td>\n",
              "      <td>0.005988</td>\n",
              "    </tr>\n",
              "    <tr>\n",
              "      <th>2014-05-28</th>\n",
              "      <td>-0.007545</td>\n",
              "      <td>-0.001114</td>\n",
              "    </tr>\n",
              "    <tr>\n",
              "      <th>2014-05-29</th>\n",
              "      <td>-0.002849</td>\n",
              "      <td>0.005367</td>\n",
              "    </tr>\n",
              "    <tr>\n",
              "      <th>...</th>\n",
              "      <td>...</td>\n",
              "      <td>...</td>\n",
              "    </tr>\n",
              "    <tr>\n",
              "      <th>2020-12-24</th>\n",
              "      <td>0.000000</td>\n",
              "      <td>0.003537</td>\n",
              "    </tr>\n",
              "    <tr>\n",
              "      <th>2020-12-28</th>\n",
              "      <td>0.000000</td>\n",
              "      <td>0.008723</td>\n",
              "    </tr>\n",
              "    <tr>\n",
              "      <th>2020-12-29</th>\n",
              "      <td>-0.009780</td>\n",
              "      <td>-0.002227</td>\n",
              "    </tr>\n",
              "    <tr>\n",
              "      <th>2020-12-30</th>\n",
              "      <td>-0.000000</td>\n",
              "      <td>0.001342</td>\n",
              "    </tr>\n",
              "    <tr>\n",
              "      <th>2020-12-31</th>\n",
              "      <td>0.000000</td>\n",
              "      <td>0.006439</td>\n",
              "    </tr>\n",
              "  </tbody>\n",
              "</table>\n",
              "<p>1666 rows × 2 columns</p>\n",
              "</div>\n",
              "      <button class=\"colab-df-convert\" onclick=\"convertToInteractive('df-b74db138-603d-45f1-9342-748c8442fa29')\"\n",
              "              title=\"Convert this dataframe to an interactive table.\"\n",
              "              style=\"display:none;\">\n",
              "        \n",
              "  <svg xmlns=\"http://www.w3.org/2000/svg\" height=\"24px\"viewBox=\"0 0 24 24\"\n",
              "       width=\"24px\">\n",
              "    <path d=\"M0 0h24v24H0V0z\" fill=\"none\"/>\n",
              "    <path d=\"M18.56 5.44l.94 2.06.94-2.06 2.06-.94-2.06-.94-.94-2.06-.94 2.06-2.06.94zm-11 1L8.5 8.5l.94-2.06 2.06-.94-2.06-.94L8.5 2.5l-.94 2.06-2.06.94zm10 10l.94 2.06.94-2.06 2.06-.94-2.06-.94-.94-2.06-.94 2.06-2.06.94z\"/><path d=\"M17.41 7.96l-1.37-1.37c-.4-.4-.92-.59-1.43-.59-.52 0-1.04.2-1.43.59L10.3 9.45l-7.72 7.72c-.78.78-.78 2.05 0 2.83L4 21.41c.39.39.9.59 1.41.59.51 0 1.02-.2 1.41-.59l7.78-7.78 2.81-2.81c.8-.78.8-2.07 0-2.86zM5.41 20L4 18.59l7.72-7.72 1.47 1.35L5.41 20z\"/>\n",
              "  </svg>\n",
              "      </button>\n",
              "      \n",
              "  <style>\n",
              "    .colab-df-container {\n",
              "      display:flex;\n",
              "      flex-wrap:wrap;\n",
              "      gap: 12px;\n",
              "    }\n",
              "\n",
              "    .colab-df-convert {\n",
              "      background-color: #E8F0FE;\n",
              "      border: none;\n",
              "      border-radius: 50%;\n",
              "      cursor: pointer;\n",
              "      display: none;\n",
              "      fill: #1967D2;\n",
              "      height: 32px;\n",
              "      padding: 0 0 0 0;\n",
              "      width: 32px;\n",
              "    }\n",
              "\n",
              "    .colab-df-convert:hover {\n",
              "      background-color: #E2EBFA;\n",
              "      box-shadow: 0px 1px 2px rgba(60, 64, 67, 0.3), 0px 1px 3px 1px rgba(60, 64, 67, 0.15);\n",
              "      fill: #174EA6;\n",
              "    }\n",
              "\n",
              "    [theme=dark] .colab-df-convert {\n",
              "      background-color: #3B4455;\n",
              "      fill: #D2E3FC;\n",
              "    }\n",
              "\n",
              "    [theme=dark] .colab-df-convert:hover {\n",
              "      background-color: #434B5C;\n",
              "      box-shadow: 0px 1px 3px 1px rgba(0, 0, 0, 0.15);\n",
              "      filter: drop-shadow(0px 1px 2px rgba(0, 0, 0, 0.3));\n",
              "      fill: #FFFFFF;\n",
              "    }\n",
              "  </style>\n",
              "\n",
              "      <script>\n",
              "        const buttonEl =\n",
              "          document.querySelector('#df-b74db138-603d-45f1-9342-748c8442fa29 button.colab-df-convert');\n",
              "        buttonEl.style.display =\n",
              "          google.colab.kernel.accessAllowed ? 'block' : 'none';\n",
              "\n",
              "        async function convertToInteractive(key) {\n",
              "          const element = document.querySelector('#df-b74db138-603d-45f1-9342-748c8442fa29');\n",
              "          const dataTable =\n",
              "            await google.colab.kernel.invokeFunction('convertToInteractive',\n",
              "                                                     [key], {});\n",
              "          if (!dataTable) return;\n",
              "\n",
              "          const docLinkHtml = 'Like what you see? Visit the ' +\n",
              "            '<a target=\"_blank\" href=https://colab.research.google.com/notebooks/data_table.ipynb>data table notebook</a>'\n",
              "            + ' to learn more about interactive tables.';\n",
              "          element.innerHTML = '';\n",
              "          dataTable['output_type'] = 'display_data';\n",
              "          await google.colab.output.renderOutput(dataTable, element);\n",
              "          const docLink = document.createElement('div');\n",
              "          docLink.innerHTML = docLinkHtml;\n",
              "          element.appendChild(docLink);\n",
              "        }\n",
              "      </script>\n",
              "    </div>\n",
              "  </div>\n",
              "  "
            ],
            "text/plain": [
              "              return     SP500\n",
              "Date                          \n",
              "2014-05-22  0.011356  0.002362\n",
              "2014-05-23  0.014017  0.004248\n",
              "2014-05-27  0.023973  0.005988\n",
              "2014-05-28 -0.007545 -0.001114\n",
              "2014-05-29 -0.002849  0.005367\n",
              "...              ...       ...\n",
              "2020-12-24  0.000000  0.003537\n",
              "2020-12-28  0.000000  0.008723\n",
              "2020-12-29 -0.009780 -0.002227\n",
              "2020-12-30 -0.000000  0.001342\n",
              "2020-12-31  0.000000  0.006439\n",
              "\n",
              "[1666 rows x 2 columns]"
            ]
          },
          "execution_count": 5,
          "metadata": {},
          "output_type": "execute_result"
        }
      ],
      "source": [
        "# Necesitamos calcular la covarianza entre el mercado y la cartera \n",
        "sp500 = yf.download(\"^GSPC\")[\"Adj Close\"].pct_change(1)\n",
        "sp500.name = \"SP500\"\n",
        "\n",
        "# Los concatenamos para hacer las covarianzas\n",
        "val = pd.concat((return_serie, sp500), axis=1).dropna()\n",
        "val"
      ]
    },
    {
      "cell_type": "code",
      "execution_count": null,
      "metadata": {
        "colab": {
          "base_uri": "https://localhost:8080/"
        },
        "id": "i6ylQu7qZWpB",
        "outputId": "4e44ab34-6566-479c-c553-eb4db25014eb"
      },
      "outputs": [
        {
          "data": {
            "text/plain": [
              "array([[ 1.10851791e-04, -1.03896556e-05],\n",
              "       [-1.03896556e-05,  1.29870452e-04]])"
            ]
          },
          "execution_count": 6,
          "metadata": {},
          "output_type": "execute_result"
        }
      ],
      "source": [
        "# Calculamos la matriz de covarianzas\n",
        "cov_var_mat = np.cov(val.values, rowvar=False)\n",
        "cov_var_mat"
      ]
    },
    {
      "cell_type": "code",
      "execution_count": null,
      "metadata": {
        "colab": {
          "base_uri": "https://localhost:8080/"
        },
        "id": "Ta752DUTZIFQ",
        "outputId": "0ed0e1a6-c7a3-4e56-85e1-473d3c1ea470"
      },
      "outputs": [
        {
          "name": "stdout",
          "output_type": "stream",
          "text": [
            "Beta: -0.080\n"
          ]
        }
      ],
      "source": [
        "# Calculamos beta \n",
        "cov = cov_var_mat[0][1]\n",
        "var = cov_var_mat[1][1]\n",
        "\n",
        "beta = cov/var\n",
        "\n",
        "print(f\"Beta: {'%.3f' % beta}\")"
      ]
    },
    {
      "cell_type": "markdown",
      "metadata": {
        "id": "ecanIMv7KEg3"
      },
      "source": [
        "###### **Alpha**\n",
        "El alfa es una estadístico que indica si la cartera supera al mercado en términos de rentabilidad del riesgo. <br>\n",
        "\n",
        "<p align=\"center\">\n",
        "$Alpha = r_{PF} - \\beta*(r_{PF} - r_{f}) - r_{f}$\n",
        "<p> <br>\n",
        "\n",
        "\n",
        "* alfa > 0: La cartera supera al mercado en términos de rentabilidad del riesgo\n",
        "* alfa < 0: la cartera tiene un rendimiento inferior al del mercado en términos de riesgo-rendimiento\n",
        "\n"
      ]
    },
    {
      "cell_type": "code",
      "execution_count": null,
      "metadata": {
        "colab": {
          "base_uri": "https://localhost:8080/"
        },
        "id": "U3m9gBHCInQT",
        "outputId": "a1c273a6-9af1-48a9-832e-fa5c2a78a6bf"
      },
      "outputs": [
        {
          "name": "stdout",
          "output_type": "stream",
          "text": [
            "Alpha: -3.1 %\n"
          ]
        }
      ],
      "source": [
        "# Calculamos alpha \n",
        "alpha = (252 * mean * (1-beta))*100\n",
        "print(f\"Alpha: {'%.1f' % alpha} %\")"
      ]
    },
    {
      "cell_type": "markdown",
      "metadata": {
        "id": "jLkdFSptKhTk"
      },
      "source": [
        "# Sección 2: Drawdown\n",
        "\n",
        "El drawdown (reducción) es una medida del riesgo de la estrategia. Una estadística interesante para conocer el rendimiento del algoritmo es el drawdown máximo. En efecto, representa la pérdida máxima de una estrategia durante un período de tiempo que nos permite comprender si la estrategia es arriesgada y, por tanto, elegirla en función de nuestro nivel de aversión al riesgo."
      ]
    },
    {
      "cell_type": "code",
      "execution_count": null,
      "metadata": {
        "id": "SYIRBGgEKUPD"
      },
      "outputs": [],
      "source": [
        "def drawdown_function(serie):\n",
        "\n",
        "  # Calculamos la suma de los rendimientos\n",
        "  cum = serie.dropna().cumsum() + 1\n",
        "\n",
        "  # Calculamos el máximo de la suma en el período (máximo acumulado) # (1,3,5,3,1) --> (1,3,5,5,5)\n",
        "  running_max = np.maximum.accumulate(cum)\n",
        "\n",
        "  # Calculamos el drawdown\n",
        "  drawdown = cum/running_max - 1\n",
        "  return drawdown"
      ]
    },
    {
      "cell_type": "code",
      "execution_count": null,
      "metadata": {
        "colab": {
          "base_uri": "https://localhost:8080/"
        },
        "id": "zjC9SSZRgdM6",
        "outputId": "b8450735-ccdf-4650-c317-6e33085bb4da"
      },
      "outputs": [
        {
          "data": {
            "text/plain": [
              "Date\n",
              "2014-05-22    0.000000\n",
              "2014-05-23    0.000000\n",
              "2014-05-27    0.000000\n",
              "2014-05-28   -0.007190\n",
              "2014-05-29   -0.009905\n",
              "                ...   \n",
              "2020-12-24   -0.226287\n",
              "2020-12-28   -0.226287\n",
              "2020-12-29   -0.235512\n",
              "2020-12-30   -0.235512\n",
              "2020-12-31   -0.235512\n",
              "Name: return, Length: 1666, dtype: float64"
            ]
          },
          "execution_count": 10,
          "metadata": {},
          "output_type": "execute_result"
        }
      ],
      "source": [
        "# Calculamos el drawdown\n",
        "drawdown = drawdown_function(return_serie)\n",
        "drawdown"
      ]
    },
    {
      "cell_type": "code",
      "execution_count": null,
      "metadata": {
        "colab": {
          "base_uri": "https://localhost:8080/",
          "height": 499
        },
        "id": "AVF7wHtoLA9l",
        "outputId": "5015635d-0499-49ce-a3b4-433fbae7cee3"
      },
      "outputs": [
        {
          "data": {
            "image/png": "[encoded data removed]",
            "text/plain": [
              "<Figure size 1080x576 with 1 Axes>"
            ]
          },
          "metadata": {},
          "output_type": "display_data"
        }
      ],
      "source": [
        "# Adaptar el tamaño de la figura\n",
        "plt.figure(figsize=(15,8))\n",
        "\n",
        "# Representar el drawdown\n",
        "plt.fill_between(drawdown.index, drawdown*100, 0,\n",
        "                 drawdown, color=\"#CE5757\", alpha=0.65)\n",
        "\n",
        "# Añadimos el título\n",
        "plt.title(\"Drawdown\")\n",
        "\n",
        "# Etiqueta del eje de la y\n",
        "plt.ylabel(\"Drawdown en %\")\n",
        "\n",
        "plt.show()\n"
      ]
    },
    {
      "cell_type": "code",
      "execution_count": null,
      "metadata": {
        "colab": {
          "base_uri": "https://localhost:8080/"
        },
        "id": "82ms70tbMQvx",
        "outputId": "dc708487-cc24-4179-a75d-354c245a3858"
      },
      "outputs": [
        {
          "name": "stdout",
          "output_type": "stream",
          "text": [
            "Max drawdown: 35.5 %\n"
          ]
        }
      ],
      "source": [
        "# Cálculo del drawdown máximo\n",
        "max_drawdown = -np.min(drawdown)*100\n",
        "print(f\"Max drawdown: {'%.1f' % max_drawdown} %\")"
      ]
    },
    {
      "cell_type": "markdown",
      "metadata": {
        "id": "pY-8oU31MiNr"
      },
      "source": [
        "# Sección 3: Crear la función BackTest para evaluar la estrategia en las secciones posteriores"
      ]
    },
    {
      "cell_type": "code",
      "execution_count": null,
      "metadata": {
        "id": "62IR-tyILvXa"
      },
      "outputs": [],
      "source": [
        "def BackTest(serie, annualiazed_scalar=252):\n",
        "\n",
        "  # Importar el benchmark\n",
        "  sp500 = yf.download(\"^GSPC\")[\"Adj Close\"].pct_change(1)\n",
        "  \n",
        "  # Cambiar el nombre\n",
        "  sp500.name = \"SP500\"\n",
        "\n",
        "  # Concatenar los retornos y el sp500\n",
        "  val = pd.concat((serie,sp500), axis=1).dropna()\n",
        "  # Calcular el drawdown\n",
        "  drawdown = drawdown_function(serie)*100\n",
        "  \n",
        "  # Calcular el max drawdown\n",
        "  max_drawdown = -np.min(drawdown)\n",
        "\n",
        "\n",
        "\n",
        "\n",
        "  # Put a subplots\n",
        "  fig, (cum, dra) = plt.subplots(1,2, figsize=(20,6))\n",
        "  \n",
        "  # Put a Suptitle\n",
        "  fig.suptitle(\"Backtesting\", size=20)\n",
        "\n",
        "  # Returns cumsum chart\n",
        "  cum.plot(serie.cumsum()*100, color=\"#39B3C7\")\n",
        "\n",
        "  # SP500 cumsum chart\n",
        "  cum.plot(val[\"SP500\"].cumsum()*100, color=\"#B85A0F\")\n",
        "\n",
        "  # Put a legend\n",
        "  cum.legend([\"Portfolio\", \"SP500\"])\n",
        "  \n",
        "  # Set individual title\n",
        "  cum.set_title(\"Cumulative Return\", size=13)\n",
        "\n",
        "  cum.set_ylabel(\"Cumulative Return %\", size=11)\n",
        "\n",
        "  # Put the drawdown\n",
        "  dra.fill_between(drawdown.index,0,drawdown, color=\"#C73954\", alpha=0.65)\n",
        "\n",
        "  # Set individual title\n",
        "  dra.set_title(\"Drawdown\", size=13)\n",
        "\n",
        "  dra.set_ylabel(\"drawdown en %\", size=11)\n",
        "\n",
        "  # Plot the graph\n",
        "  plt.show()\n",
        "\n",
        "\n",
        "  # Calcular el índice sortino\n",
        "  sortino = np.sqrt(annualiazed_scalar) * serie.mean()/serie.loc[serie<0].std()\n",
        "\n",
        "  # Calcular el índice  beta\n",
        "  beta = np.cov(val[[\"return\", \"SP500\"]].values,rowvar=False)[0][1] / np.var(val[\"SP500\"].values)\n",
        "\n",
        "  # Calcular el índice  alpha\n",
        "  alpha = annualiazed_scalar * (serie.mean() - beta*serie.mean())\n",
        "\n",
        "  # Imprimir los estadísticos\n",
        "  print(f\"Sortino: {np.round(sortino,3)}\")\n",
        "  print(f\"Beta: {np.round(beta,3)}\")\n",
        "  print(f\"Alpha: {np.round(alpha*100,3)} %\")\n",
        "  print(f\"MaxDrawdown: {np.round(max_drawdown,3)} %\")"
      ]
    },
    {
      "cell_type": "code",
      "execution_count": null,
      "metadata": {
        "colab": {
          "base_uri": "https://localhost:8080/",
          "height": 505
        },
        "id": "5i9X9w_vgi_C",
        "outputId": "8123eac2-ad3a-4361-fcf8-f21a149b8408"
      },
      "outputs": [
        {
          "name": "stdout",
          "output_type": "stream",
          "text": [
            "\r[*********************100%***********************]  1 of 1 completed\n"
          ]
        },
        {
          "data": {
            "image/png": "[encoded data removed]",
            "text/plain": [
              "<Figure size 1440x432 with 2 Axes>"
            ]
          },
          "metadata": {},
          "output_type": "display_data"
        },
        {
          "name": "stdout",
          "output_type": "stream",
          "text": [
            "Sortino: -0.249\n",
            "Beta: -0.069\n",
            "Alpha: -4.833 %\n",
            "MaxDrawdown: 39.75 %\n"
          ]
        }
      ],
      "source": [
        "return_serie = RSI(f,5, 14)\n",
        "BackTest(return_serie, annualiazed_scalar=252)"
      ]
    },
    {
      "cell_type": "code",
      "execution_count": null,
      "metadata": {
        "colab": {
          "base_uri": "https://localhost:8080/"
        },
        "id": "ufjf76OAP7b-",
        "outputId": "1481e80b-c709-4b27-a57c-f793aa9637af"
      },
      "outputs": [
        {
          "name": "stdout",
          "output_type": "stream",
          "text": [
            "Sortino: -0.162\n",
            "Beta: -0.08\n",
            "Alpha: -3.096 %\n",
            "MaxDrawdown: 35.466 %\n"
          ]
        }
      ],
      "source": []
    }
  ],
  "metadata": {
    "colab": {
      "collapsed_sections": [],
      "include_colab_link": true,
      "name": "ES - TA Capítulo 05 Backtesting Vectorizado.ipynb",
      "provenance": []
    },
    "kernelspec": {
      "display_name": "Python 3.9.6 ('finance')",
      "language": "python",
      "name": "python3"
    },
    "language_info": {
      "codemirror_mode": {
        "name": "ipython",
        "version": 3
      },
      "file_extension": ".py",
      "mimetype": "text/x-python",
      "name": "python",
      "nbconvert_exporter": "python",
      "pygments_lexer": "ipython3",
      "version": "3.9.6"
    },
    "vscode": {
      "interpreter": {
        "hash": "07a11fb9ae457c2a7b26193f926f2d5e120c1c3eedd0e619dc841e4a547d081b"
      }
    }
  },
  "nbformat": 4,
  "nbformat_minor": 0
}
